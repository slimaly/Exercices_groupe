{
 "cells": [
  {
   "cell_type": "markdown",
   "metadata": {},
   "source": [
    "# Exercice 1 : les impairs\n",
    "Écrire une fonction qui prend 2 nombres en paramètres, et qui affiche, dans l'ordre\n",
    "croissant, tous les entiers impairs se trouvant entre ces deux nombres. Vous devez\n",
    "afficher ces nombres, en les séparant uniquement d'un espace."
   ]
  },
  {
   "cell_type": "code",
   "execution_count": null,
   "metadata": {},
   "outputs": [],
   "source": [
    "def nombre_impaire(n1, n2):\n",
    "    for n in range(n1, n2 + 1):\n",
    "        if n % 2 != 0:\n",
    "            print(n)\n",
    "\n",
    "nombre_impaire(1, 13)\n",
    "\n",
    "print(nombre_impaire)"
   ]
  },
  {
   "cell_type": "markdown",
   "metadata": {},
   "source": [
    "# Exercice 2 : le jeu du plus ou moins\n",
    "Coder le jeu suivant: \n",
    "Pour commencer l'ordinateur va choisir au hasard un nombre compris entre 1 et 100. \n",
    "L'utilisateur doit alors deviner ce nombre comme ceci :\n",
    "L'utilisateur propose un nombre. L'ordinateur lui dit s'il est trop petit ou trop grand, et\n",
    "ainsi de suite jusqu'à ce que l'utilisateur aie trouvé le bon nombre.\n",
    "On pourra ajouter en options dans ce jeu les fonctionnalités suivantes :\n",
    "• L'ordinateur affiche un message d'erreur si l'utilisateur propose un nombre\n",
    "inférieur à 0 ou supérieur à 100.\n",
    "• Vous pouvez choisir le niveau de difficulté (c’est-à-dire la taille de l’intervalle\n",
    "possible)\n",
    "• Vous pouvez inclure un mode multijoueur où un autre utilisateur entre le nombre\n",
    "à deviner\n",
    "• Vous pouvez ajouter une variable \"compteur\" qui fait en sorte de dire à\n",
    "l'utilisateur en combien de coups il a réussi à découvrir le nombre (ex. : \"Vous avez\n",
    "trouvé le nombre en 5 coups\")\n",
    "• Vous pouvez ajouter un second compteur qui somme les scores de chaque partie\n",
    "• Et enfin vous pouvez demander à l'utilisateur s'il veut refaire une partie ou pas"
   ]
  },
  {
   "cell_type": "markdown",
   "metadata": {},
   "source": []
  },
  {
   "cell_type": "markdown",
   "metadata": {},
   "source": [
    "# Exercice 3 : les plus grands nombres\n",
    "Générer une liste aléatoire de 100 entiers puis en extraire les 10 plus grands.\n",
    "Généraliser votre algorithme en créant une fonction prenant comme paramètres la taille\n",
    "de la liste initiale et le nombre d’entiers à extraire.\n",
    "Contrainte : ne pas utiliser les fonctions de tri sort() ou sorted(). Vous\n",
    "pouvez toutefois utiliser ces fonctions dans un second temps pour vérifier vos résultats."
   ]
  },
  {
   "cell_type": "code",
   "execution_count": null,
   "metadata": {},
   "outputs": [],
   "source": []
  },
  {
   "cell_type": "markdown",
   "metadata": {},
   "source": [
    "# Exercice 4 : les algorithmes de tri\n",
    "Écrire une fonction permettant de trier une liste. Ne pas utiliser les méthodes intégrées\n",
    "sort() et sorted().\n",
    "Pour aller plus loin :\n",
    "• utiliser au moins 3 algorithmes différents\n",
    "• afficher les temps d’exécution des différents algorithmes à l’aide du package time\n",
    "• comparer les au temps d’exécution de méthodes sort() et sorted()"
   ]
  },
  {
   "cell_type": "code",
   "execution_count": 18,
   "metadata": {},
   "outputs": [
    {
     "name": "stdout",
     "output_type": "stream",
     "text": [
      "[1, 4, 7, 8, 11, 13]\n"
     ]
    }
   ],
   "source": [
    "def trier_liste(list):\n",
    "    # récupérer la longueur de la liste\n",
    "    n = len(list)\n",
    "\n",
    "    for i in range (n):\n",
    "        for j in range (0, n-i-1):\n",
    "            if list[j] > list[j+1]:\n",
    "                list[j], list[j+1] = list[j+1], list[j]\n",
    "\n",
    "my_list= [13, 8, 4, 11, 7,1]\n",
    "\n",
    "trier_liste(my_list)\n",
    "\n",
    "print(my_list)"
   ]
  },
  {
   "cell_type": "code",
   "execution_count": 10,
   "metadata": {},
   "outputs": [
    {
     "name": "stdout",
     "output_type": "stream",
     "text": [
      "[3, 6, 8]\n"
     ]
    }
   ],
   "source": [
    "\n",
    "        \n",
    "\n",
    "\n",
    "\n",
    "liste1 =[6,3,8]\n",
    "def trier(liste):\n",
    "    l = []\n",
    "\n",
    "    while liste:\n",
    "        mini = liste[0]\n",
    "        for i in liste:\n",
    "            if i < mini:\n",
    "                mini = i\n",
    "        liste.remove(mini)\n",
    "        l.append(mini)\n",
    "        \n",
    "    return l\n",
    "        \n",
    "print(trier(liste1))\n"
   ]
  },
  {
   "cell_type": "markdown",
   "metadata": {},
   "source": [
    "# Exercice 5 : des conversions\n",
    "Écrire un programme qui convertit un nombre entier de secondes fourni au départ, en un\n",
    "nombre d'années, de mois, de jours, de minutes et de secondes.\n",
    "Contraintes:  \n",
    "• Ne pas utiliser le package datetime\n",
    "• Afficher le résultat sous la forme :\n",
    "3430061596791935255 secondes correspondent à :\n",
    "108 692 093 086 années 8 mois 1 jours\n",
    "15 heures 51 minutes 28 secondes\n",
    "Écrire un programme qui convertit en mètres par seconde et en km/h une vitesse fournie\n",
    "par l'utilisateur en miles/heure (1 mile = 1609 mètres). Afficher le résultat avec\n",
    "uniquement 2 chiffres après la virgule."
   ]
  },
  {
   "cell_type": "code",
   "execution_count": null,
   "metadata": {},
   "outputs": [],
   "source": []
  },
  {
   "cell_type": "markdown",
   "metadata": {},
   "source": [
    "# Exercice 6 : le triangle de Pascal\n",
    "voir tableau sur pdf\n",
    "Chaque élément d'une ligne s'obtient en sommant les deux termes au-dessus et à\n",
    "gauche de l'élément. Les premiers et derniers termes\n",
    "Exemple : ligne 7, on a 35 = 20 + 15.\n",
    "Écrire une fonction qui prend comme paramètre le numéro de ligne n et renvoie la plus\n",
    "grande valeur de la ligne n du tableau de Pascal."
   ]
  },
  {
   "cell_type": "code",
   "execution_count": null,
   "metadata": {},
   "outputs": [],
   "source": []
  },
  {
   "cell_type": "markdown",
   "metadata": {},
   "source": [
    "# Exercice 7 : manipulations de dictionnaires\n",
    "Écrire une fonction qui échange les clés et les valeurs d'un dictionnaire (ce qui permettra\n",
    "par exemple de transformer un dictionnaire anglais/français en un dictionnaire\n",
    "français/anglais). On suppose qu’il n’y a pas de valeurs en double pour simplifier."
   ]
  },
  {
   "cell_type": "code",
   "execution_count": 15,
   "metadata": {},
   "outputs": [
    {
     "name": "stdout",
     "output_type": "stream",
     "text": [
      "{'Hello': 'Bonjour', 'Welcome': 'Bienvenue', 'Thank you': 'Merci'}\n"
     ]
    }
   ],
   "source": [
    "def dict_inverse(mon_dictionnaire):\n",
    " inverse_dict = {k :v  for v, k in mon_dictionnaire.items()}\n",
    " return inverse_dict\n",
    "\n",
    "print(dict_inverse( mon_dictionnaire= {\"Bonjour\" : \"Hello\", \"Bienvenue\" : \"Welcome\", \"Merci\" : \"Thank you\"} ))"
   ]
  },
  {
   "cell_type": "markdown",
   "metadata": {},
   "source": [
    "\n",
    "# Exercice 8 : quelques notes\n",
    "Écrire un programme permettant d'entrer des notes d'élèves d’élèves sur 20 jusqu’à ce\n",
    "l’utilisateur saisisse une note vide. Construire une liste et à chaque nouvelle entrée,\n",
    "afficher le nombre de notes entrées, la note la plus élevée, la note la plus basse, la\n",
    "moyenne de toutes les notes.\n",
    "Facultatif : utiliser le module pickle pour enregistrer la liste de note et la récupérer si\n",
    "nécessaire. À chaque fois que l’utilisateur commence, lui demander s’il veut continuer\n",
    "une des listes existantes, en créer une nouvelle ou écraser une de celles existantes."
   ]
  },
  {
   "cell_type": "code",
   "execution_count": null,
   "metadata": {},
   "outputs": [],
   "source": []
  },
  {
   "cell_type": "markdown",
   "metadata": {},
   "source": [
    "# Exercice 9 : une première base de données\n",
    "Écrire un script qui crée un système de base de données fonctionnant à l'aide d'un\n",
    "dictionnaire, et dans lequel vous mémoriserez les noms d'une série d’individus, leur âge,\n",
    "leur sexe et leur taille. Votre script devra comporter 4 fonctions : la première pour le\n",
    "remplissage du dictionnaire, la seconde pour sa consultation, la troisième pour sa\n",
    "sauvegarde au format texte et la quatrième pour reconstituer le dictionnaire à partir du\n",
    "fichier texte.\n",
    "La fonction de remplissage doit permettre d’ajouter les informations des individus au\n",
    "dictionnaire : le nom de l’individu servira de clé d'accès, et les valeurs seront constituées\n",
    "de tuples (âge, sexe, taille), dans lesquels l'âge sera exprimé en années (donnée de type\n",
    "entier), le sexe au format ‘F’ ou ‘M’ et la taille en mètres (donnée de type réel).\n",
    "La fonction de consultation doit permettre à l’utilisateur d’obtenir à partir d’un nom le\n",
    "triplet « âge, sexe, taille » correspondant. Le résultat de la requête devra être une ligne\n",
    "de texte bien formatée, telle par exemple : « Nom : Xabi - âge : 25 ans - sexe : M - taille :\n",
    "1.74 m ».\n",
    "La fonction de sauvegarde doit stocker dans chaque ligne de votre fichier texte un\n",
    "élément du dictionnaire. Elle sera formatée de manière à bien séparer la clé et les\n",
    "différentes valeurs.\n",
    "Au début de chaque utilisation, demander à l’utilisateur ce qu’il souhaite faire\n",
    "(compléter ou consulter un dictionnaire)"
   ]
  },
  {
   "cell_type": "code",
   "execution_count": null,
   "metadata": {},
   "outputs": [],
   "source": []
  }
 ],
 "metadata": {
  "kernelspec": {
   "display_name": "Python 3",
   "language": "python",
   "name": "python3"
  },
  "language_info": {
   "codemirror_mode": {
    "name": "ipython",
    "version": 3
   },
   "file_extension": ".py",
   "mimetype": "text/x-python",
   "name": "python",
   "nbconvert_exporter": "python",
   "pygments_lexer": "ipython3",
   "version": "3.12.1"
  }
 },
 "nbformat": 4,
 "nbformat_minor": 2
}
