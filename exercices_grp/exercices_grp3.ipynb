{
 "cells": [
  {
   "cell_type": "markdown",
   "metadata": {},
   "source": [
    "## Exercice 1 : les impairs\n",
    "Écrire une fonction qui prend 2 nombres en paramètres, et qui affiche, dans l'ordre croissant, tous les entiers impairs se trouvant entre ces deux nombres. Vous devez afficher ces nombres, en les séparant uniquement d'un espace."
   ]
  },
  {
   "cell_type": "code",
   "execution_count": null,
   "metadata": {},
   "outputs": [],
   "source": [
    "def nombre_impaire(n1, n2):\n",
    "    for n in range(n1, n2 + 1):\n",
    "        if n % 2 != 0:\n",
    "            print(n)\n",
    "\n",
    "nombre_impaire(1, 13)\n",
    "\n",
    "print(nombre_impaire)"
   ]
  },
  {
   "cell_type": "markdown",
   "metadata": {},
   "source": [
    "## Exercice 2 : le jeu du plus ou moins\n",
    "Coder le jeu suivant: Pour commencer l'ordinateur va choisir au hasard un nombre compris entre 1 et 100. L'utilisateur doit alors deviner ce nombre comme ceci : L'utilisateur propose un nombre. L'ordinateur lui dit s'il est trop petit ou trop grand, et ainsi de suite jusqu'à ce que l'utilisateur aie trouvé le bon nombre. On pourra ajouter en options dans ce jeu les fonctionnalités suivantes : • L'ordinateur affiche un message d'erreur si l'utilisateur propose un nombre inférieur à 0 ou supérieur à 100. • Vous pouvez choisir le niveau de difficulté (c’est-à-dire la taille de l’intervalle possible) • Vous pouvez inclure un mode multijoueur où un autre utilisateur entre le nombre à deviner • Vous pouvez ajouter une variable \"compteur\" qui fait en sorte de dire à l'utilisateur en combien de coups il a réussi à découvrir le nombre (ex. : \"Vous avez trouvé le nombre en 5 coups\") • Vous pouvez ajouter un second compteur qui somme les scores de chaque partie • Et enfin vous pouvez demander à l'utilisateur s'il veut refaire une partie ou pas"
   ]
  },
  {
   "cell_type": "code",
   "execution_count": null,
   "metadata": {},
   "outputs": [],
   "source": []
  },
  {
   "cell_type": "markdown",
   "metadata": {},
   "source": [
    "## Exercice 3 : les plus grands nombres\n",
    "Générer une liste aléatoire de 100 entiers puis en extraire les 10 plus grands. Généraliser votre algorithme en créant une fonction prenant comme paramètres la taille de la liste initiale et le nombre d’entiers à extraire. Contrainte : ne pas utiliser les fonctions de tri sort() ou sorted(). Vous pouvez toutefois utiliser ces fonctions dans un second temps pour vérifier vos résultats."
   ]
  },
  {
   "cell_type": "code",
   "execution_count": null,
   "metadata": {},
   "outputs": [],
   "source": [
    "import random\n",
    "\n",
    "\n",
    "#script pour la première partie de l'ex\n",
    "# def plus_grands_num(a, b):\n",
    "\n",
    "#     list_dimension = (a, b)\n",
    "#     #creation de l'algo qui génère une liste de 100 entiers \n",
    "#     list_dimension = random.choices(range(a, b+1), k=100)\n",
    "#     #'+1' permet d'intégrer le dernier chiffre\n",
    "#     return list_dimension\n",
    "\n",
    "\n",
    "# result = plus_grands_num(0, 99)\n",
    "# print(result)\n",
    "\n",
    "\n",
    "\n",
    "\n",
    "def plus_grands_num(a, b):    \n",
    "    list_size = (a, b)\n",
    "    #creation de l'algo qui génère une liste de 100 entiers \n",
    "    list_size = random.choices(range(a, b+1), k=100)\n",
    "    #'+1' permet d'intégrer le dernier chiffre\n",
    "    nombre_entiers_a_ex = sorted(list_size, reverse=True)\n",
    "    entiers_extraits = nombre_entiers_a_ex[:10]\n",
    "\n",
    "    print(list_size)\n",
    "    print(entiers_extraits)\n",
    "    return\n",
    "\n",
    "\n",
    "result = plus_grands_num(0, 99)\n",
    "\n",
    "print(result)"
   ]
  },
  {
   "cell_type": "markdown",
   "metadata": {},
   "source": [
    "## Exercice 4 : les algorithmes de tri\n",
    "Écrire une fonction permettant de trier une liste. Ne pas utiliser les méthodes intégrées sort() et sorted(). Pour aller plus loin : • utiliser au moins 3 algorithmes différents • afficher les temps d’exécution des différents algorithmes à l’aide du package time • comparer les au temps d’exécution de méthodes sort() et sorted()"
   ]
  },
  {
   "cell_type": "code",
   "execution_count": null,
   "metadata": {},
   "outputs": [],
   "source": [
    "def trier_liste(list):\n",
    "    # récupérer la longueur de la liste\n",
    "    n = len(list)\n",
    "\n",
    "    for i in range (n):\n",
    "        for j in range (0, n-i-1):\n",
    "            if list[j] > list[j+1]:\n",
    "                list[j], list[j+1] = list[j+1], list[j]\n",
    "\n",
    "my_list= [13, 8, 4, 11, 7,1]\n",
    "\n",
    "trier_liste(my_list)\n",
    "\n",
    "print(my_list)"
   ]
  },
  {
   "cell_type": "code",
   "execution_count": null,
   "metadata": {},
   "outputs": [],
   "source": [
    "liste1 =[6,3,8]\n",
    "def trier(liste):\n",
    "    l = []\n",
    "\n",
    "    while liste:\n",
    "        mini = liste[0]\n",
    "        for i in liste:\n",
    "            if i < mini:\n",
    "                mini = i\n",
    "        liste.remove(mini)\n",
    "        l.append(mini)\n",
    "        \n",
    "    return l\n",
    "        \n",
    "print(trier(liste1))"
   ]
  },
  {
   "cell_type": "markdown",
   "metadata": {},
   "source": [
    "## Exercice 5 : des conversions\n",
    "Écrire un programme qui convertit un nombre entier de secondes fourni au départ, en un nombre d'années, de mois, de jours, de minutes et de secondes. Contraintes:\n",
    "• Ne pas utiliser le package datetime • Afficher le résultat sous la forme : 3430061596791935255 secondes correspondent à : 108 692 093 086 années 8 mois 1 jours 15 heures 51 minutes 28 secondes Écrire un programme qui convertit en mètres par seconde et en km/h une vitesse fournie par l'utilisateur en miles/heure (1 mile = 1609 mètres). Afficher le résultat avec uniquement 2 chiffres après la virgule."
   ]
  },
  {
   "cell_type": "code",
   "execution_count": null,
   "metadata": {},
   "outputs": [],
   "source": []
  },
  {
   "cell_type": "markdown",
   "metadata": {},
   "source": [
    "## Exercice 6 : le triangle de Pascal\n",
    "voir tableau sur pdf Chaque élément d'une ligne s'obtient en sommant les deux termes au-dessus et à gauche de l'élément. Les premiers et derniers termes Exemple : ligne 7, on a 35 = 20 + 15. Écrire une fonction qui prend comme paramètre le numéro de ligne n et renvoie la plus grande valeur de la ligne n du tableau de Pascal."
   ]
  },
  {
   "cell_type": "code",
   "execution_count": null,
   "metadata": {},
   "outputs": [],
   "source": []
  },
  {
   "cell_type": "markdown",
   "metadata": {},
   "source": [
    "## Exercice 7 : manipulations de dictionnaires\n",
    "Écrire une fonction qui échange les clés et les valeurs d'un dictionnaire (ce qui permettra par exemple de transformer un dictionnaire anglais/français en un dictionnaire français/anglais). On suppose qu’il n’y a pas de valeurs en double pour simplifier."
   ]
  },
  {
   "cell_type": "code",
   "execution_count": null,
   "metadata": {},
   "outputs": [],
   "source": [
    "def dict_inverse(mon_dictionnaire):\n",
    " inverse_dict = {k :v  for v, k in mon_dictionnaire.items()}\n",
    " return inverse_dict\n",
    "\n",
    "print(dict_inverse( mon_dictionnaire= {\"Bonjour\" : \"Hello\", \"Bienvenue\" : \"Welcome\", \"Merci\" : \"Thank you\"} ))"
   ]
  },
  {
   "cell_type": "markdown",
   "metadata": {},
   "source": [
    "## Exercice 8 : quelques notes\n",
    "Écrire un programme permettant d'entrer des notes d'élèves d’élèves sur 20 jusqu’à ce l’utilisateur saisisse une note vide. Construire une liste et à chaque nouvelle entrée, afficher le nombre de notes entrées, la note la plus élevée, la note la plus basse, la moyenne de toutes les notes. Facultatif : utiliser le module pickle pour enregistrer la liste de note et la récupérer si nécessaire. À chaque fois que l’utilisateur commence, lui demander s’il veut continuer une des listes existantes, en créer une nouvelle ou écraser une de celles existantes."
   ]
  },
  {
   "cell_type": "code",
   "execution_count": null,
   "metadata": {},
   "outputs": [],
   "source": [
    "nb_grades =  []\n",
    "\n",
    "def grade_entry():\n",
    "    while True:\n",
    "        user_input = input (\"Enter grade\")\n",
    "        \n",
    "        if user_input == \"\":\n",
    "             break\n",
    "                \n",
    "        grades = int(user_input)\n",
    "        \n",
    "        if 0 <= grades <= 20:\n",
    "            nb_grades.append(grades)\n",
    "            \n",
    "        \n",
    "        else: \n",
    "            return \"Invalid grade. Must be between 0 and 20\"\n",
    "\n",
    "        if nb_grades:\n",
    "            \n",
    "            nb_grades_count = len(nb_grades)\n",
    "            highest_grade = max(nb_grades)\n",
    "            lowest_grade = min(nb_grades)\n",
    "            average_grade = sum(nb_grades)/nb_grades_count\n",
    "            print(f\"You have submitted the following grade:{grades}\")\n",
    "            print(f\"The highest grade is {highest_grade}\")\n",
    "            print(f\"The lowest grade is {lowest_grade}\")\n",
    "            print(f\"The average grade is {average_grade}\")\n",
    "\n",
    "        else:\n",
    "            print(\"no grades entered\")"
   ]
  },
  {
   "cell_type": "markdown",
   "metadata": {},
   "source": [
    "## Exercice 9 : une première base de données\n",
    "Écrire un script qui crée un système de base de données fonctionnant à l'aide d'un dictionnaire, et dans lequel vous mémoriserez les noms d'une série d’individus, leur âge, leur sexe et leur taille. Votre script devra comporter 4 fonctions : la première pour le remplissage du dictionnaire, la seconde pour sa consultation, la troisième pour sa sauvegarde au format texte et la quatrième pour reconstituer le dictionnaire à partir du fichier texte. La fonction de remplissage doit permettre d’ajouter les informations des individus au dictionnaire : le nom de l’individu servira de clé d'accès, et les valeurs seront constituées de tuples (âge, sexe, taille), dans lesquels l'âge sera exprimé en années (donnée de type entier), le sexe au format ‘F’ ou ‘M’ et la taille en mètres (donnée de type réel). La fonction de consultation doit permettre à l’utilisateur d’obtenir à partir d’un nom le triplet « âge, sexe, taille » correspondant. Le résultat de la requête devra être une ligne de texte bien formatée, telle par exemple : « Nom : Xabi - âge : 25 ans - sexe : M - taille : 1.74 m ». La fonction de sauvegarde doit stocker dans chaque ligne de votre fichier texte un élément du dictionnaire. Elle sera formatée de manière à bien séparer la clé et les différentes valeurs. Au début de chaque utilisation, demander à l’utilisateur ce qu’il souhaite faire (compléter ou consulter un dictionnaire)"
   ]
  },
  {
   "cell_type": "code",
   "execution_count": null,
   "metadata": {},
   "outputs": [],
   "source": []
  }
 ],
 "metadata": {
  "language_info": {
   "name": "python"
  }
 },
 "nbformat": 4,
 "nbformat_minor": 2
}
